{
 "cells": [
  {
   "cell_type": "markdown",
   "id": "2b41a4a0",
   "metadata": {},
   "source": [
    "# Поиск мероприятий, проведенных в отношении земельных участков, расположенных в ЗОУИТ"
   ]
  },
  {
   "cell_type": "markdown",
   "id": "13b79463",
   "metadata": {},
   "source": [
    "**Исходные данные:** таблицы, содержащие информацию по проведенным за 2022, 2023 гг. проверочными мероприятиям, и таблица с земельными участками, расположенными в границах зоны с особыми условиями использования территории (далее - ЗОУИТ).\n",
    "\n",
    "**Задача:** найти проверочные мероприятия, которые проводились на земельных участках, расположенных в ЗОУИТ.\n",
    "\n",
    "В таблицах с мероприятиями отдельный столбец с кадастровыми номерами участков отсутствует. Но есть столбец с кадастровыми номерами одного или нескольких участков вместе с адресом."
   ]
  },
  {
   "cell_type": "markdown",
   "id": "97af2cf5",
   "metadata": {},
   "source": [
    "## Загрузка и обработка данных"
   ]
  },
  {
   "cell_type": "code",
   "execution_count": 1,
   "id": "07dfb9cc",
   "metadata": {},
   "outputs": [],
   "source": [
    "import pandas as pd"
   ]
  },
  {
   "cell_type": "code",
   "execution_count": 2,
   "id": "54fc0b4c",
   "metadata": {},
   "outputs": [],
   "source": [
    "# проверочные мероприятия за 2022 год\n",
    "df_2022 = pd.read_csv('df_2022utf_cut.csv', encoding='utf-8', sep=';')"
   ]
  },
  {
   "cell_type": "code",
   "execution_count": 3,
   "id": "6e23e1c7",
   "metadata": {},
   "outputs": [],
   "source": [
    "# проверочные мероприятия за 2023 год\n",
    "df_2023 = pd.read_csv('df_2023utf_cut.csv', encoding='utf-8', sep=';')"
   ]
  },
  {
   "cell_type": "code",
   "execution_count": 4,
   "id": "452cffe6",
   "metadata": {},
   "outputs": [],
   "source": [
    "# таблица с участками, расположенными в ЗОУИТ\n",
    "df_zu = pd.read_csv('zu.csv', encoding='utf-8', sep=';')"
   ]
  },
  {
   "cell_type": "code",
   "execution_count": 5,
   "id": "a7b85ad9",
   "metadata": {},
   "outputs": [],
   "source": [
    "# функция показывает общую информацию о таблице и наличие дубликатов\n",
    "def open_f(data):\n",
    "    print(data.info())\n",
    "    \n",
    "    #проверка наличия явных дубликатов\n",
    "    dup = data.duplicated().sum()\n",
    "   \n",
    "    print('\\nКоличество дубликатов:', dup)\n",
    "    print('Процент дубликатов: {:.2%}\\n'.format(dup / data.shape[0]))"
   ]
  },
  {
   "cell_type": "code",
   "execution_count": 6,
   "id": "80ccff9d",
   "metadata": {},
   "outputs": [
    {
     "name": "stdout",
     "output_type": "stream",
     "text": [
      "<class 'pandas.core.frame.DataFrame'>\n",
      "RangeIndex: 1158 entries, 0 to 1157\n",
      "Data columns (total 10 columns):\n",
      " #   Column                                Non-Null Count  Dtype \n",
      "---  ------                                --------------  ----- \n",
      " 0   Ф.И.О. инспектора                     1158 non-null   object\n",
      " 1   № распоряжения о проведении проверки  1158 non-null   object\n",
      " 2   Лицо (код)                            1022 non-null   object\n",
      " 3   Вид проверки (код)                    1095 non-null   object\n",
      " 4   Адрес ЗУ, кадастровый номер           1158 non-null   object\n",
      " 5   Площадь земельного участка (кв. м)    1092 non-null   object\n",
      " 6   Категория земель                      1092 non-null   object\n",
      " 7   Вид разрешенного использования        1092 non-null   object\n",
      " 8   Вид права                             957 non-null    object\n",
      " 9   Результат проверки                    1135 non-null   object\n",
      "dtypes: object(10)\n",
      "memory usage: 90.6+ KB\n",
      "None\n",
      "\n",
      "Количество дубликатов: 0\n",
      "Процент дубликатов: 0.00%\n",
      "\n",
      "<class 'pandas.core.frame.DataFrame'>\n",
      "RangeIndex: 1098 entries, 0 to 1097\n",
      "Data columns (total 10 columns):\n",
      " #   Column                                Non-Null Count  Dtype \n",
      "---  ------                                --------------  ----- \n",
      " 0   Ф.И.О. инспектора                     1098 non-null   object\n",
      " 1   № распоряжения о проведении проверки  1098 non-null   object\n",
      " 2   Лицо (код)                            1097 non-null   object\n",
      " 3   Вид проверки (код)                    1097 non-null   object\n",
      " 4   Адрес ЗУ, кадастровый номер           1098 non-null   object\n",
      " 5   Площадь земельного участка (кв. м)    984 non-null    object\n",
      " 6   Категория земель                      1095 non-null   object\n",
      " 7   Вид разрешенного использования        1095 non-null   object\n",
      " 8   Вид права                             1094 non-null   object\n",
      " 9   Результат проверки                    1046 non-null   object\n",
      "dtypes: object(10)\n",
      "memory usage: 85.9+ KB\n",
      "None\n",
      "\n",
      "Количество дубликатов: 0\n",
      "Процент дубликатов: 0.00%\n",
      "\n",
      "<class 'pandas.core.frame.DataFrame'>\n",
      "RangeIndex: 1567 entries, 0 to 1566\n",
      "Data columns (total 7 columns):\n",
      " #   Column             Non-Null Count  Dtype \n",
      "---  ------             --------------  ----- \n",
      " 0   Реестровый_номер   1567 non-null   object\n",
      " 1   Тип_зоны           1567 non-null   object\n",
      " 2   Наименование       1567 non-null   object\n",
      " 3   Кадастровый номер  1567 non-null   object\n",
      " 4   Площадь            1567 non-null   object\n",
      " 5   Вид ЗУ             1567 non-null   object\n",
      " 6   Категория          1567 non-null   object\n",
      "dtypes: object(7)\n",
      "memory usage: 85.8+ KB\n",
      "None\n",
      "\n",
      "Количество дубликатов: 15\n",
      "Процент дубликатов: 0.96%\n",
      "\n"
     ]
    }
   ],
   "source": [
    "for df in df_2022, df_2023, df_zu:\n",
    "    open_f(df)"
   ]
  },
  {
   "cell_type": "markdown",
   "id": "83ed54b6",
   "metadata": {},
   "source": [
    "В таблице `df_zu` 15 строк-дубликатов. Но для целей задачи представляют интерес только кадастровые номера земельных участков.\n",
    "\n",
    "Удалим дубликаты кадастровых номеров земельных участков."
   ]
  },
  {
   "cell_type": "code",
   "execution_count": 7,
   "id": "7a414923",
   "metadata": {},
   "outputs": [
    {
     "name": "stdout",
     "output_type": "stream",
     "text": [
      "Дубликатов участков: 75\n"
     ]
    }
   ],
   "source": [
    "# удалим дубликаты в столбце с кадастровыми номерами\n",
    "print('Дубликатов участков:', df_zu.duplicated(subset='Кадастровый номер').sum())\n",
    "df_zu = df_zu.drop_duplicates(subset='Кадастровый номер').reset_index(drop=True)"
   ]
  },
  {
   "cell_type": "markdown",
   "id": "6f5928f2",
   "metadata": {},
   "source": [
    "Проверим успешность удаления дубликатов."
   ]
  },
  {
   "cell_type": "code",
   "execution_count": 8,
   "id": "3183565f",
   "metadata": {},
   "outputs": [
    {
     "name": "stdout",
     "output_type": "stream",
     "text": [
      "Дубликаты удалены\n",
      "Дубликаты участков удалены\n",
      "<class 'pandas.core.frame.DataFrame'>\n",
      "RangeIndex: 1492 entries, 0 to 1491\n",
      "Data columns (total 7 columns):\n",
      " #   Column             Non-Null Count  Dtype \n",
      "---  ------             --------------  ----- \n",
      " 0   Реестровый_номер   1492 non-null   object\n",
      " 1   Тип_зоны           1492 non-null   object\n",
      " 2   Наименование       1492 non-null   object\n",
      " 3   Кадастровый номер  1492 non-null   object\n",
      " 4   Площадь            1492 non-null   object\n",
      " 5   Вид ЗУ             1492 non-null   object\n",
      " 6   Категория          1492 non-null   object\n",
      "dtypes: object(7)\n",
      "memory usage: 81.7+ KB\n"
     ]
    }
   ],
   "source": [
    "# все дубликаты\n",
    "if df_zu.duplicated().sum() == 0:\n",
    "    print('Дубликаты удалены')\n",
    "else:\n",
    "    print('Дубликатов: ', df_zu.duplicated().sum())\n",
    "\n",
    "# дубликаты кадастровых номеров земельных участков\n",
    "if df_zu.duplicated(subset='Кадастровый номер').sum() == 0:\n",
    "    print('Дубликаты участков удалены')\n",
    "else:\n",
    "    print('Дубликатов: ', df_zu.duplicated(subset='Кадастровый номер').sum())\n",
    "    \n",
    "df_zu.info()"
   ]
  },
  {
   "cell_type": "markdown",
   "id": "9c9d23c5",
   "metadata": {},
   "source": [
    "## Поиск мероприятий"
   ]
  },
  {
   "cell_type": "markdown",
   "id": "61e7e99d",
   "metadata": {},
   "source": [
    "Выделим кадастровые номера земельных участков, расположенных в ЗОУИТ."
   ]
  },
  {
   "cell_type": "code",
   "execution_count": 9,
   "id": "1ef192a0",
   "metadata": {},
   "outputs": [],
   "source": [
    "zu_in_zone = df_zu['Кадастровый номер']"
   ]
  },
  {
   "cell_type": "code",
   "execution_count": 10,
   "id": "5703b9d5",
   "metadata": {},
   "outputs": [
    {
     "name": "stdout",
     "output_type": "stream",
     "text": [
      "<class 'pandas.core.series.Series'>\n",
      "RangeIndex: 1492 entries, 0 to 1491\n",
      "Series name: Кадастровый номер\n",
      "Non-Null Count  Dtype \n",
      "--------------  ----- \n",
      "1492 non-null   object\n",
      "dtypes: object(1)\n",
      "memory usage: 11.8+ KB\n"
     ]
    }
   ],
   "source": [
    "zu_in_zone.info()"
   ]
  },
  {
   "cell_type": "markdown",
   "id": "0922f2af",
   "metadata": {},
   "source": [
    "Напишем функцию, которая будет искать среди участков, в отношении которых были проведены мероприятия, участки, расположенные в ЗОУИТ."
   ]
  },
  {
   "cell_type": "code",
   "execution_count": 11,
   "id": "dbe4d896",
   "metadata": {},
   "outputs": [],
   "source": [
    "# на вход подается столбец (ячейка через apply) с адресом и кадастровым номером\n",
    "# на выходе - True, если кадастровый номер есть в списке участков в зоне, False - если нет. None на всякий случай.\n",
    "\n",
    "def zu_search(row):\n",
    "    x = []    # пустой список\n",
    "    for s in range(zu_in_zone.shape[0]-1):\n",
    "        if row.find(zu_in_zone[s]) not in x:    # .find возвращает индекс, начиная с которого подстрока встречается в исходной строке\n",
    "            x.append(row.find(zu_in_zone[s]))\n",
    "    if len(x) == 1:    # только значение -1, что соответствует отсутствию кадастрового номера в списке участков в зоне\n",
    "        return False\n",
    "    elif len(x) > 1:\n",
    "        return True\n",
    "    else:\n",
    "        return None"
   ]
  },
  {
   "cell_type": "markdown",
   "id": "8c82d3cf",
   "metadata": {},
   "source": [
    "Проверим мероприятия за 2022 год:"
   ]
  },
  {
   "cell_type": "code",
   "execution_count": 12,
   "id": "821ac9e2",
   "metadata": {},
   "outputs": [],
   "source": [
    "df_2022['in_zone'] = df_2022['Адрес ЗУ, кадастровый номер'].apply(zu_search)"
   ]
  },
  {
   "cell_type": "code",
   "execution_count": 13,
   "id": "931d663d",
   "metadata": {},
   "outputs": [
    {
     "data": {
      "text/plain": [
       "0"
      ]
     },
     "execution_count": 13,
     "metadata": {},
     "output_type": "execute_result"
    }
   ],
   "source": [
    "# проверим, есть ли None\n",
    "len(df_2022[df_2022['in_zone'] == None])"
   ]
  },
  {
   "cell_type": "code",
   "execution_count": 14,
   "id": "35a53ee6",
   "metadata": {
    "scrolled": true
   },
   "outputs": [
    {
     "data": {
      "text/plain": [
       "2"
      ]
     },
     "execution_count": 14,
     "metadata": {},
     "output_type": "execute_result"
    }
   ],
   "source": [
    "# выведем интересующие мероприятия и их количество\n",
    "#df_2022[df_2022['in_zone'] == True]    # закомментировано в целях сохранения конфедициальности\n",
    "len(df_2022[df_2022['in_zone'] == True])"
   ]
  },
  {
   "cell_type": "markdown",
   "id": "a4561b2b",
   "metadata": {},
   "source": [
    "Проверим мероприятия за 2023 год:"
   ]
  },
  {
   "cell_type": "code",
   "execution_count": 15,
   "id": "b7783e37",
   "metadata": {},
   "outputs": [],
   "source": [
    "df_2023['in_zone'] = df_2023['Адрес ЗУ, кадастровый номер'].apply(zu_search)"
   ]
  },
  {
   "cell_type": "code",
   "execution_count": 16,
   "id": "597a2b86",
   "metadata": {},
   "outputs": [
    {
     "data": {
      "text/plain": [
       "0"
      ]
     },
     "execution_count": 16,
     "metadata": {},
     "output_type": "execute_result"
    }
   ],
   "source": [
    "# проверим, есть ли None\n",
    "len(df_2023[df_2023['in_zone'] == None])"
   ]
  },
  {
   "cell_type": "code",
   "execution_count": 17,
   "id": "e141feb4",
   "metadata": {},
   "outputs": [
    {
     "data": {
      "text/plain": [
       "0"
      ]
     },
     "execution_count": 17,
     "metadata": {},
     "output_type": "execute_result"
    }
   ],
   "source": [
    "# выведем интересующие мероприятия и их количество\n",
    "#df_2023[df_2023['in_zone'] == True]    # закомментировано в целях сохранения конфедициальности\n",
    "len(df_2023[df_2023['in_zone'] == True])"
   ]
  },
  {
   "cell_type": "markdown",
   "id": "aba3d140",
   "metadata": {},
   "source": [
    "## Вывод"
   ]
  },
  {
   "cell_type": "markdown",
   "id": "d7bbdcaf",
   "metadata": {},
   "source": [
    "В отношении земельных участков, расположенных в границах ЗОУИТ, проведено 2 проверочных мероприятия в 2022 г. и 0 мероприятий в 2023 г."
   ]
  }
 ],
 "metadata": {
  "kernelspec": {
   "display_name": "Python 3 (ipykernel)",
   "language": "python",
   "name": "python3"
  },
  "language_info": {
   "codemirror_mode": {
    "name": "ipython",
    "version": 3
   },
   "file_extension": ".py",
   "mimetype": "text/x-python",
   "name": "python",
   "nbconvert_exporter": "python",
   "pygments_lexer": "ipython3",
   "version": "3.9.13"
  },
  "toc": {
   "base_numbering": 1,
   "nav_menu": {},
   "number_sections": true,
   "sideBar": true,
   "skip_h1_title": true,
   "title_cell": "Table of Contents",
   "title_sidebar": "Contents",
   "toc_cell": false,
   "toc_position": {},
   "toc_section_display": true,
   "toc_window_display": false
  }
 },
 "nbformat": 4,
 "nbformat_minor": 5
}
